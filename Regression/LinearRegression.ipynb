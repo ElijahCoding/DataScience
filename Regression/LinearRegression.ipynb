{
 "cells": [
  {
   "cell_type": "code",
   "execution_count": 17,
   "metadata": {},
   "outputs": [],
   "source": [
    "import pandas as pd\n",
    "import numpy as np\n",
    "import sklearn\n",
    "from sklearn.linear_model import LinearRegression\n",
    "from sklearn.utils import shuffle\n",
    "from sklearn.model_selection import train_test_split"
   ]
  },
  {
   "cell_type": "code",
   "execution_count": 44,
   "metadata": {},
   "outputs": [
    {
     "data": {
      "text/html": [
       "<div>\n",
       "<style scoped>\n",
       "    .dataframe tbody tr th:only-of-type {\n",
       "        vertical-align: middle;\n",
       "    }\n",
       "\n",
       "    .dataframe tbody tr th {\n",
       "        vertical-align: top;\n",
       "    }\n",
       "\n",
       "    .dataframe thead th {\n",
       "        text-align: right;\n",
       "    }\n",
       "</style>\n",
       "<table border=\"1\" class=\"dataframe\">\n",
       "  <thead>\n",
       "    <tr style=\"text-align: right;\">\n",
       "      <th></th>\n",
       "      <th>G1</th>\n",
       "      <th>G2</th>\n",
       "      <th>G3</th>\n",
       "      <th>studytime</th>\n",
       "      <th>failures</th>\n",
       "      <th>absences</th>\n",
       "    </tr>\n",
       "  </thead>\n",
       "  <tbody>\n",
       "    <tr>\n",
       "      <td>0</td>\n",
       "      <td>5</td>\n",
       "      <td>6</td>\n",
       "      <td>6</td>\n",
       "      <td>2</td>\n",
       "      <td>0</td>\n",
       "      <td>6</td>\n",
       "    </tr>\n",
       "    <tr>\n",
       "      <td>1</td>\n",
       "      <td>5</td>\n",
       "      <td>5</td>\n",
       "      <td>6</td>\n",
       "      <td>2</td>\n",
       "      <td>0</td>\n",
       "      <td>4</td>\n",
       "    </tr>\n",
       "    <tr>\n",
       "      <td>2</td>\n",
       "      <td>7</td>\n",
       "      <td>8</td>\n",
       "      <td>10</td>\n",
       "      <td>2</td>\n",
       "      <td>3</td>\n",
       "      <td>10</td>\n",
       "    </tr>\n",
       "    <tr>\n",
       "      <td>3</td>\n",
       "      <td>15</td>\n",
       "      <td>14</td>\n",
       "      <td>15</td>\n",
       "      <td>3</td>\n",
       "      <td>0</td>\n",
       "      <td>2</td>\n",
       "    </tr>\n",
       "    <tr>\n",
       "      <td>4</td>\n",
       "      <td>6</td>\n",
       "      <td>10</td>\n",
       "      <td>10</td>\n",
       "      <td>2</td>\n",
       "      <td>0</td>\n",
       "      <td>4</td>\n",
       "    </tr>\n",
       "  </tbody>\n",
       "</table>\n",
       "</div>"
      ],
      "text/plain": [
       "   G1  G2  G3  studytime  failures  absences\n",
       "0   5   6   6          2         0         6\n",
       "1   5   5   6          2         0         4\n",
       "2   7   8  10          2         3        10\n",
       "3  15  14  15          3         0         2\n",
       "4   6  10  10          2         0         4"
      ]
     },
     "execution_count": 44,
     "metadata": {},
     "output_type": "execute_result"
    }
   ],
   "source": [
    "data = pd.read_csv('./datasets/student-mat.csv', sep=\";\")\n",
    "\n",
    "data = data[[\"G1\", \"G2\", \"G3\", \"studytime\", \"failures\", \"absences\"]]\n",
    "\n",
    "data.head()"
   ]
  },
  {
   "cell_type": "code",
   "execution_count": 91,
   "metadata": {},
   "outputs": [],
   "source": [
    "predict = 'G3'\n",
    "\n",
    "X = data.drop([predict], axis=1)\n",
    "y = np.array(data[predict])\n",
    "\n",
    "X_train, X_test, y_train, y_test = train_test_split(X, y, test_size=0.3)"
   ]
  },
  {
   "cell_type": "code",
   "execution_count": 92,
   "metadata": {},
   "outputs": [
    {
     "name": "stdout",
     "output_type": "stream",
     "text": [
      "accuracy: \n",
      " 0.8798677351707072\n",
      "Coefficient: \n",
      " [ 0.13894725  0.98929345 -0.13298273 -0.47248043  0.06019433]\n",
      "Intercept: \n",
      " -1.7136221626711112\n"
     ]
    }
   ],
   "source": [
    "linear = LinearRegression()\n",
    "\n",
    "linear.fit(X_train, y_train)\n",
    "\n",
    "accuracy = linear.score(X_test, y_test)\n",
    "\n",
    "print('accuracy: \\n', accuracy)\n",
    "print('Coefficient: \\n', linear.coef_)\n",
    "print('Intercept: \\n', linear.intercept_)"
   ]
  },
  {
   "cell_type": "code",
   "execution_count": 94,
   "metadata": {},
   "outputs": [
    {
     "data": {
      "text/plain": [
       "array([ 8.91546921, 13.94213538, 12.53003565, 11.36471488, 12.55455877,\n",
       "        6.42894579, -1.34645456,  9.6318366 ,  4.24317889, 11.5593008 ,\n",
       "        6.26199265, 10.16509463, -2.56930992, 13.80981769, 11.34615628,\n",
       "       18.05085051,  8.53574465,  7.16672664,  5.77915004, 11.54546096,\n",
       "       15.68491342, 12.67209257,  7.27948966,  8.31352595,  9.67657944,\n",
       "        9.3028194 , 15.91309665, 10.55144875,  8.415356  , 13.03511731,\n",
       "       10.82934326, 12.51126449, 16.05370501, 11.92643128, 10.70895461,\n",
       "       10.05630399, 14.80507566,  9.5435967 , 12.40202137, 12.57026252,\n",
       "        6.14628051,  4.35490615, 14.80507566, 12.80793016, 10.42343447,\n",
       "       12.17383815,  5.21205495, 10.4125015 , 15.08297016,  4.16172909,\n",
       "        9.2842608 ,  6.13890713, -0.5901151 ,  8.6019035 ,  6.9476176 ,\n",
       "       11.81267219,  6.09189272,  9.29519377, 12.94687741,  8.16861418,\n",
       "        8.15602009, 12.14268546, 16.52863006, 10.06226851, 13.4650993 ,\n",
       "        8.05915849, 13.06726606, 16.21121087,  7.03499479,  7.31288929,\n",
       "       16.21717539,  7.81838119,  9.17480511, 12.15938528, -1.1399396 ,\n",
       "       -0.58415059,  7.67757515,  4.58930614,  9.67305954, 11.23214494,\n",
       "        8.51718605, 14.79911114,  7.67591403,  7.3242325 , 14.80507566,\n",
       "        9.39350392,  5.89290913, 14.40016294, 10.14057151, 14.92546431,\n",
       "       11.53477768,  8.88597764, 14.78651706, 11.92046676, 11.19361888,\n",
       "       12.54859425,  6.19002728,  7.38231579, 10.64664924, -0.73502688,\n",
       "       11.81267219,  9.57263835, 10.55144875, 16.10793482, 12.78937156,\n",
       "       12.97591905, 15.20335882, 15.11864137,  6.22035693, 10.56404283,\n",
       "       11.05566769,  7.92617576, 15.4752888 ,  5.88226809,  7.65901655,\n",
       "        3.32808271, 11.55333628, -1.01292138, 14.67084716])"
      ]
     },
     "execution_count": 94,
     "metadata": {},
     "output_type": "execute_result"
    }
   ],
   "source": [
    "predictions = linear.predict(X_test)\n",
    "\n"
   ]
  },
  {
   "cell_type": "code",
   "execution_count": null,
   "metadata": {},
   "outputs": [],
   "source": []
  },
  {
   "cell_type": "code",
   "execution_count": null,
   "metadata": {},
   "outputs": [],
   "source": []
  },
  {
   "cell_type": "code",
   "execution_count": null,
   "metadata": {},
   "outputs": [],
   "source": []
  }
 ],
 "metadata": {
  "kernelspec": {
   "display_name": "Python 3",
   "language": "python",
   "name": "python3"
  },
  "language_info": {
   "codemirror_mode": {
    "name": "ipython",
    "version": 3
   },
   "file_extension": ".py",
   "mimetype": "text/x-python",
   "name": "python",
   "nbconvert_exporter": "python",
   "pygments_lexer": "ipython3",
   "version": "3.7.4"
  }
 },
 "nbformat": 4,
 "nbformat_minor": 4
}
