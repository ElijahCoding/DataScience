{
 "cells": [
  {
   "cell_type": "code",
   "execution_count": 3,
   "metadata": {},
   "outputs": [],
   "source": [
    "import pandas as pd\n",
    "import os\n",
    "import time\n",
    "from datetime import datetime"
   ]
  },
  {
   "cell_type": "code",
   "execution_count": 4,
   "metadata": {},
   "outputs": [
    {
     "name": "stdout",
     "output_type": "stream",
     "text": [
      "TotalDebtEquitymrq.csv\n"
     ]
    }
   ],
   "source": [
    "path = './intraQuarter'\n",
    "\n",
    "def Key_Stats(gather=\"Total Debt/Equity (mrq)\"):\n",
    "    statspath = path + '/_KeyStats'\n",
    "    stock_list = [x[0] for x in os.walk(statspath)]\n",
    "    \n",
    "    df = pd.DataFrame(columns = ['Date', 'Unix', 'Ticker', 'DE Ratio'])\n",
    "    \n",
    "    for each_dir in stock_list[1:]:\n",
    "        each_file = os.listdir(each_dir)\n",
    "        ticker = each_dir.split(statspath + \"/\")[-1]\n",
    "        if len(each_file) > 0:\n",
    "            for file in each_file:\n",
    "                date_stamp = datetime.strptime(file, '%Y%m%d%H%M%S.html')\n",
    "                unix_time = time.mktime(date_stamp.timetuple())\n",
    "                \n",
    "                full_file_path = each_dir + '/' + file\n",
    "                source = open(full_file_path, 'r').read()\n",
    "                try:\n",
    "                    if gather + ':</td>' in source:\n",
    "                          value = source.split(gather + ':</td>')[1].split('<td class=\"yfnc_tabledata1\">')[1].split('</td>')[0]\n",
    "                    else:\n",
    "                          value = 'N/A'\n",
    "                    \n",
    "                    df.append({'Date': date_stamp, 'Unix': unix_time, 'Ticker': ticker, 'DE Ratio': value}, ignore_index=True)\n",
    "                except Exception as e:\n",
    "                    pass\n",
    "                    \n",
    "    save = gather.replace(' ', '').replace(')', '').replace('(', '').replace('/', '') + str('.csv')\n",
    "    print(save)\n",
    "    df.to_csv(save)\n",
    "                \n",
    "Key_Stats()"
   ]
  },
  {
   "cell_type": "code",
   "execution_count": null,
   "metadata": {},
   "outputs": [],
   "source": []
  }
 ],
 "metadata": {
  "kernelspec": {
   "display_name": "Python 3",
   "language": "python",
   "name": "python3"
  },
  "language_info": {
   "codemirror_mode": {
    "name": "ipython",
    "version": 3
   },
   "file_extension": ".py",
   "mimetype": "text/x-python",
   "name": "python",
   "nbconvert_exporter": "python",
   "pygments_lexer": "ipython3",
   "version": "3.7.4"
  }
 },
 "nbformat": 4,
 "nbformat_minor": 4
}
