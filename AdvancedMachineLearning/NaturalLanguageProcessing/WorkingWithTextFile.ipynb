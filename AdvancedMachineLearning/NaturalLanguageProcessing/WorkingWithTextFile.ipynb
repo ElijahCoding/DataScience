{
 "cells": [
  {
   "cell_type": "markdown",
   "metadata": {},
   "source": [
    "## String Formatter"
   ]
  },
  {
   "cell_type": "code",
   "execution_count": 1,
   "metadata": {},
   "outputs": [],
   "source": [
    "name = 'elijah'"
   ]
  },
  {
   "cell_type": "code",
   "execution_count": 2,
   "metadata": {},
   "outputs": [
    {
     "name": "stdout",
     "output_type": "stream",
     "text": [
      "Your name is elijah\n"
     ]
    }
   ],
   "source": [
    "print('Your name is {}'.format(name))"
   ]
  },
  {
   "cell_type": "code",
   "execution_count": 4,
   "metadata": {},
   "outputs": [
    {
     "name": "stdout",
     "output_type": "stream",
     "text": [
      "my name is elijah\n"
     ]
    }
   ],
   "source": [
    "print(f'my name is {name}')"
   ]
  },
  {
   "cell_type": "code",
   "execution_count": 5,
   "metadata": {},
   "outputs": [],
   "source": [
    "data_science_tuts = [('Python for Beginners', 19),\n",
    "                    ('Feature Selectiong for Machine Learning', 11),\n",
    "                    ('Machine Learning Tutorials', 11),\n",
    "                    ('Deep Learning Tutorials', 19)]"
   ]
  },
  {
   "cell_type": "code",
   "execution_count": 10,
   "metadata": {},
   "outputs": [
    {
     "name": "stdout",
     "output_type": "stream",
     "text": [
      "Python for Beginners                                       19\n",
      "Feature Selectiong for Machine Learning                    11\n",
      "Machine Learning Tutorials                                 11\n",
      "Deep Learning Tutorials                                    19\n"
     ]
    }
   ],
   "source": [
    "for info in data_science_tuts:\n",
    "    print(f'{info[0]:{50}} {info[1]:{10}}')"
   ]
  },
  {
   "cell_type": "code",
   "execution_count": 12,
   "metadata": {},
   "outputs": [
    {
     "name": "stdout",
     "output_type": "stream",
     "text": [
      "Python for Beginners                               ........19\n",
      "Feature Selectiong for Machine Learning            ........11\n",
      "Machine Learning Tutorials                         ........11\n",
      "Deep Learning Tutorials                            ........19\n"
     ]
    }
   ],
   "source": [
    "for info in data_science_tuts:\n",
    "    print(f'{info[0]:<{50}} {info[1]:.>{10}}')"
   ]
  },
  {
   "cell_type": "code",
   "execution_count": 14,
   "metadata": {},
   "outputs": [
    {
     "name": "stdout",
     "output_type": "stream",
     "text": [
      "Writing ./data/text1.txt\n"
     ]
    }
   ],
   "source": [
    "%%writefile ./data/text1.txt\n",
    "Hello, new file"
   ]
  },
  {
   "cell_type": "code",
   "execution_count": 16,
   "metadata": {},
   "outputs": [
    {
     "name": "stdout",
     "output_type": "stream",
     "text": [
      "Appending to ./data/text1.txt\n"
     ]
    }
   ],
   "source": [
    "%%writefile -a ./data/text1.txt\n",
    "appended"
   ]
  },
  {
   "cell_type": "code",
   "execution_count": null,
   "metadata": {},
   "outputs": [],
   "source": []
  }
 ],
 "metadata": {
  "kernelspec": {
   "display_name": "Python 3",
   "language": "python",
   "name": "python3"
  },
  "language_info": {
   "codemirror_mode": {
    "name": "ipython",
    "version": 3
   },
   "file_extension": ".py",
   "mimetype": "text/x-python",
   "name": "python",
   "nbconvert_exporter": "python",
   "pygments_lexer": "ipython3",
   "version": "3.7.4"
  }
 },
 "nbformat": 4,
 "nbformat_minor": 2
}
