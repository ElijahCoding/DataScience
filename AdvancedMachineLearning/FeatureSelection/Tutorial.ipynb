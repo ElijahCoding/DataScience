{
 "cells": [
  {
   "cell_type": "markdown",
   "metadata": {},
   "source": [
    "Models with less number of features have higher explainability <br>\n",
    "It is easier to implement machine learning models with reduced features <br>\n",
    "Fewer features lead to enhanced generalization which in turn reduces overfitting <br>\n",
    "Feature selection removes data redundancy <br>\n",
    "Training time of models with fewer features is significantly lower <br>\n",
    "Models with fewer features are less prone to errors <br>"
   ]
  },
  {
   "cell_type": "code",
   "execution_count": 3,
   "metadata": {},
   "outputs": [],
   "source": [
    "import numpy as np\n",
    "import pandas as pd\n",
    "import matplotlib.pyplot as plt\n",
    "import seaborn as sns\n",
    "\n",
    "from sklearn.model_selection import train_test_split\n",
    "from sklearn.ensemble import RandomForestClassifier\n",
    "from sklearn.metrics import accuracy_score\n",
    "from sklearn.feature_selection import VarianceThreshold"
   ]
  },
  {
   "cell_type": "code",
   "execution_count": 24,
   "metadata": {},
   "outputs": [
    {
     "data": {
      "text/html": [
       "<div>\n",
       "<style scoped>\n",
       "    .dataframe tbody tr th:only-of-type {\n",
       "        vertical-align: middle;\n",
       "    }\n",
       "\n",
       "    .dataframe tbody tr th {\n",
       "        vertical-align: top;\n",
       "    }\n",
       "\n",
       "    .dataframe thead th {\n",
       "        text-align: right;\n",
       "    }\n",
       "</style>\n",
       "<table border=\"1\" class=\"dataframe\">\n",
       "  <thead>\n",
       "    <tr style=\"text-align: right;\">\n",
       "      <th></th>\n",
       "      <th>ID</th>\n",
       "      <th>var3</th>\n",
       "      <th>var15</th>\n",
       "      <th>imp_ent_var16_ult1</th>\n",
       "      <th>imp_op_var39_comer_ult1</th>\n",
       "      <th>imp_op_var39_comer_ult3</th>\n",
       "      <th>imp_op_var40_comer_ult1</th>\n",
       "      <th>imp_op_var40_comer_ult3</th>\n",
       "      <th>imp_op_var40_efect_ult1</th>\n",
       "      <th>imp_op_var40_efect_ult3</th>\n",
       "      <th>...</th>\n",
       "      <th>saldo_medio_var33_hace2</th>\n",
       "      <th>saldo_medio_var33_hace3</th>\n",
       "      <th>saldo_medio_var33_ult1</th>\n",
       "      <th>saldo_medio_var33_ult3</th>\n",
       "      <th>saldo_medio_var44_hace2</th>\n",
       "      <th>saldo_medio_var44_hace3</th>\n",
       "      <th>saldo_medio_var44_ult1</th>\n",
       "      <th>saldo_medio_var44_ult3</th>\n",
       "      <th>var38</th>\n",
       "      <th>TARGET</th>\n",
       "    </tr>\n",
       "  </thead>\n",
       "  <tbody>\n",
       "    <tr>\n",
       "      <td>0</td>\n",
       "      <td>1</td>\n",
       "      <td>2</td>\n",
       "      <td>23</td>\n",
       "      <td>0.0</td>\n",
       "      <td>0.0</td>\n",
       "      <td>0.0</td>\n",
       "      <td>0.0</td>\n",
       "      <td>0.0</td>\n",
       "      <td>0</td>\n",
       "      <td>0</td>\n",
       "      <td>...</td>\n",
       "      <td>0.0</td>\n",
       "      <td>0.0</td>\n",
       "      <td>0.0</td>\n",
       "      <td>0.0</td>\n",
       "      <td>0.0</td>\n",
       "      <td>0.0</td>\n",
       "      <td>0.0</td>\n",
       "      <td>0.0</td>\n",
       "      <td>39205.170000</td>\n",
       "      <td>0</td>\n",
       "    </tr>\n",
       "    <tr>\n",
       "      <td>1</td>\n",
       "      <td>3</td>\n",
       "      <td>2</td>\n",
       "      <td>34</td>\n",
       "      <td>0.0</td>\n",
       "      <td>0.0</td>\n",
       "      <td>0.0</td>\n",
       "      <td>0.0</td>\n",
       "      <td>0.0</td>\n",
       "      <td>0</td>\n",
       "      <td>0</td>\n",
       "      <td>...</td>\n",
       "      <td>0.0</td>\n",
       "      <td>0.0</td>\n",
       "      <td>0.0</td>\n",
       "      <td>0.0</td>\n",
       "      <td>0.0</td>\n",
       "      <td>0.0</td>\n",
       "      <td>0.0</td>\n",
       "      <td>0.0</td>\n",
       "      <td>49278.030000</td>\n",
       "      <td>0</td>\n",
       "    </tr>\n",
       "    <tr>\n",
       "      <td>2</td>\n",
       "      <td>4</td>\n",
       "      <td>2</td>\n",
       "      <td>23</td>\n",
       "      <td>0.0</td>\n",
       "      <td>0.0</td>\n",
       "      <td>0.0</td>\n",
       "      <td>0.0</td>\n",
       "      <td>0.0</td>\n",
       "      <td>0</td>\n",
       "      <td>0</td>\n",
       "      <td>...</td>\n",
       "      <td>0.0</td>\n",
       "      <td>0.0</td>\n",
       "      <td>0.0</td>\n",
       "      <td>0.0</td>\n",
       "      <td>0.0</td>\n",
       "      <td>0.0</td>\n",
       "      <td>0.0</td>\n",
       "      <td>0.0</td>\n",
       "      <td>67333.770000</td>\n",
       "      <td>0</td>\n",
       "    </tr>\n",
       "    <tr>\n",
       "      <td>3</td>\n",
       "      <td>8</td>\n",
       "      <td>2</td>\n",
       "      <td>37</td>\n",
       "      <td>0.0</td>\n",
       "      <td>195.0</td>\n",
       "      <td>195.0</td>\n",
       "      <td>0.0</td>\n",
       "      <td>0.0</td>\n",
       "      <td>0</td>\n",
       "      <td>0</td>\n",
       "      <td>...</td>\n",
       "      <td>0.0</td>\n",
       "      <td>0.0</td>\n",
       "      <td>0.0</td>\n",
       "      <td>0.0</td>\n",
       "      <td>0.0</td>\n",
       "      <td>0.0</td>\n",
       "      <td>0.0</td>\n",
       "      <td>0.0</td>\n",
       "      <td>64007.970000</td>\n",
       "      <td>0</td>\n",
       "    </tr>\n",
       "    <tr>\n",
       "      <td>4</td>\n",
       "      <td>10</td>\n",
       "      <td>2</td>\n",
       "      <td>39</td>\n",
       "      <td>0.0</td>\n",
       "      <td>0.0</td>\n",
       "      <td>0.0</td>\n",
       "      <td>0.0</td>\n",
       "      <td>0.0</td>\n",
       "      <td>0</td>\n",
       "      <td>0</td>\n",
       "      <td>...</td>\n",
       "      <td>0.0</td>\n",
       "      <td>0.0</td>\n",
       "      <td>0.0</td>\n",
       "      <td>0.0</td>\n",
       "      <td>0.0</td>\n",
       "      <td>0.0</td>\n",
       "      <td>0.0</td>\n",
       "      <td>0.0</td>\n",
       "      <td>117310.979016</td>\n",
       "      <td>0</td>\n",
       "    </tr>\n",
       "  </tbody>\n",
       "</table>\n",
       "<p>5 rows × 371 columns</p>\n",
       "</div>"
      ],
      "text/plain": [
       "   ID  var3  var15  imp_ent_var16_ult1  imp_op_var39_comer_ult1  \\\n",
       "0   1     2     23                 0.0                      0.0   \n",
       "1   3     2     34                 0.0                      0.0   \n",
       "2   4     2     23                 0.0                      0.0   \n",
       "3   8     2     37                 0.0                    195.0   \n",
       "4  10     2     39                 0.0                      0.0   \n",
       "\n",
       "   imp_op_var39_comer_ult3  imp_op_var40_comer_ult1  imp_op_var40_comer_ult3  \\\n",
       "0                      0.0                      0.0                      0.0   \n",
       "1                      0.0                      0.0                      0.0   \n",
       "2                      0.0                      0.0                      0.0   \n",
       "3                    195.0                      0.0                      0.0   \n",
       "4                      0.0                      0.0                      0.0   \n",
       "\n",
       "   imp_op_var40_efect_ult1  imp_op_var40_efect_ult3  ...  \\\n",
       "0                        0                        0  ...   \n",
       "1                        0                        0  ...   \n",
       "2                        0                        0  ...   \n",
       "3                        0                        0  ...   \n",
       "4                        0                        0  ...   \n",
       "\n",
       "   saldo_medio_var33_hace2  saldo_medio_var33_hace3  saldo_medio_var33_ult1  \\\n",
       "0                      0.0                      0.0                     0.0   \n",
       "1                      0.0                      0.0                     0.0   \n",
       "2                      0.0                      0.0                     0.0   \n",
       "3                      0.0                      0.0                     0.0   \n",
       "4                      0.0                      0.0                     0.0   \n",
       "\n",
       "   saldo_medio_var33_ult3  saldo_medio_var44_hace2  saldo_medio_var44_hace3  \\\n",
       "0                     0.0                      0.0                      0.0   \n",
       "1                     0.0                      0.0                      0.0   \n",
       "2                     0.0                      0.0                      0.0   \n",
       "3                     0.0                      0.0                      0.0   \n",
       "4                     0.0                      0.0                      0.0   \n",
       "\n",
       "   saldo_medio_var44_ult1  saldo_medio_var44_ult3          var38  TARGET  \n",
       "0                     0.0                     0.0   39205.170000       0  \n",
       "1                     0.0                     0.0   49278.030000       0  \n",
       "2                     0.0                     0.0   67333.770000       0  \n",
       "3                     0.0                     0.0   64007.970000       0  \n",
       "4                     0.0                     0.0  117310.979016       0  \n",
       "\n",
       "[5 rows x 371 columns]"
      ]
     },
     "execution_count": 24,
     "metadata": {},
     "output_type": "execute_result"
    }
   ],
   "source": [
    "data = pd.read_csv('./data/santander-train.csv', nrows = 20000)\n",
    "data.head()"
   ]
  },
  {
   "cell_type": "code",
   "execution_count": 12,
   "metadata": {},
   "outputs": [
    {
     "data": {
      "text/plain": [
       "((20000, 370), (20000,))"
      ]
     },
     "execution_count": 12,
     "metadata": {},
     "output_type": "execute_result"
    }
   ],
   "source": [
    "X = data.drop('TARGET', axis=1)\n",
    "y = data['TARGET']\n",
    "\n",
    "X.shape, y.shape"
   ]
  },
  {
   "cell_type": "code",
   "execution_count": 13,
   "metadata": {},
   "outputs": [],
   "source": [
    "X_train, X_test, y_train, y_test = train_test_split(X, y, test_size=0.2, random_state=1, stratify = y)"
   ]
  },
  {
   "cell_type": "markdown",
   "metadata": {},
   "source": [
    "## Constant Features Removal"
   ]
  },
  {
   "cell_type": "code",
   "execution_count": 14,
   "metadata": {},
   "outputs": [
    {
     "data": {
      "text/plain": [
       "VarianceThreshold(threshold=0)"
      ]
     },
     "execution_count": 14,
     "metadata": {},
     "output_type": "execute_result"
    }
   ],
   "source": [
    "constant_filter = VarianceThreshold(threshold=0)\n",
    "constant_filter.fit(X_train)"
   ]
  },
  {
   "cell_type": "code",
   "execution_count": 17,
   "metadata": {},
   "outputs": [
    {
     "data": {
      "text/plain": [
       "290"
      ]
     },
     "execution_count": 17,
     "metadata": {},
     "output_type": "execute_result"
    }
   ],
   "source": [
    "constant_filter.get_support().sum() # after removing constant features left"
   ]
  },
  {
   "cell_type": "code",
   "execution_count": 19,
   "metadata": {},
   "outputs": [
    {
     "data": {
      "text/plain": [
       "[False,\n",
       " False,\n",
       " False,\n",
       " False,\n",
       " False,\n",
       " False,\n",
       " False,\n",
       " False,\n",
       " False,\n",
       " False,\n",
       " False,\n",
       " False,\n",
       " False,\n",
       " False,\n",
       " False,\n",
       " False,\n",
       " False,\n",
       " False,\n",
       " False,\n",
       " False,\n",
       " False,\n",
       " False,\n",
       " True,\n",
       " True,\n",
       " False,\n",
       " False,\n",
       " False,\n",
       " False,\n",
       " False,\n",
       " False,\n",
       " False,\n",
       " False,\n",
       " False,\n",
       " False,\n",
       " False,\n",
       " False,\n",
       " False,\n",
       " True,\n",
       " True,\n",
       " False,\n",
       " False,\n",
       " False,\n",
       " False,\n",
       " False,\n",
       " True,\n",
       " True,\n",
       " False,\n",
       " False,\n",
       " False,\n",
       " False,\n",
       " False,\n",
       " False,\n",
       " False,\n",
       " False,\n",
       " False,\n",
       " False,\n",
       " False,\n",
       " True,\n",
       " True,\n",
       " True,\n",
       " True,\n",
       " False,\n",
       " False,\n",
       " False,\n",
       " False,\n",
       " False,\n",
       " False,\n",
       " False,\n",
       " False,\n",
       " False,\n",
       " False,\n",
       " False,\n",
       " True,\n",
       " True,\n",
       " False,\n",
       " False,\n",
       " False,\n",
       " False,\n",
       " False,\n",
       " False,\n",
       " False,\n",
       " True,\n",
       " False,\n",
       " False,\n",
       " False,\n",
       " True,\n",
       " True,\n",
       " False,\n",
       " False,\n",
       " False,\n",
       " False,\n",
       " False,\n",
       " False,\n",
       " False,\n",
       " False,\n",
       " False,\n",
       " False,\n",
       " False,\n",
       " False,\n",
       " False,\n",
       " False,\n",
       " False,\n",
       " False,\n",
       " True,\n",
       " True,\n",
       " False,\n",
       " False,\n",
       " False,\n",
       " False,\n",
       " False,\n",
       " True,\n",
       " True,\n",
       " False,\n",
       " False,\n",
       " False,\n",
       " False,\n",
       " False,\n",
       " False,\n",
       " False,\n",
       " False,\n",
       " False,\n",
       " True,\n",
       " False,\n",
       " False,\n",
       " False,\n",
       " False,\n",
       " False,\n",
       " False,\n",
       " False,\n",
       " False,\n",
       " False,\n",
       " False,\n",
       " True,\n",
       " True,\n",
       " True,\n",
       " True,\n",
       " False,\n",
       " False,\n",
       " False,\n",
       " False,\n",
       " False,\n",
       " False,\n",
       " False,\n",
       " False,\n",
       " False,\n",
       " False,\n",
       " True,\n",
       " True,\n",
       " False,\n",
       " False,\n",
       " False,\n",
       " False,\n",
       " False,\n",
       " False,\n",
       " False,\n",
       " False,\n",
       " True,\n",
       " False,\n",
       " False,\n",
       " False,\n",
       " False,\n",
       " False,\n",
       " True,\n",
       " True,\n",
       " False,\n",
       " False,\n",
       " False,\n",
       " False,\n",
       " False,\n",
       " False,\n",
       " False,\n",
       " True,\n",
       " False,\n",
       " False,\n",
       " False,\n",
       " True,\n",
       " False,\n",
       " False,\n",
       " False,\n",
       " False,\n",
       " True,\n",
       " True,\n",
       " False,\n",
       " False,\n",
       " False,\n",
       " False,\n",
       " False,\n",
       " True,\n",
       " False,\n",
       " False,\n",
       " True,\n",
       " False,\n",
       " False,\n",
       " True,\n",
       " False,\n",
       " True,\n",
       " True,\n",
       " False,\n",
       " False,\n",
       " False,\n",
       " False,\n",
       " False,\n",
       " False,\n",
       " True,\n",
       " False,\n",
       " True,\n",
       " False,\n",
       " True,\n",
       " False,\n",
       " False,\n",
       " False,\n",
       " False,\n",
       " False,\n",
       " False,\n",
       " False,\n",
       " True,\n",
       " False,\n",
       " True,\n",
       " False,\n",
       " True,\n",
       " False,\n",
       " True,\n",
       " True,\n",
       " True,\n",
       " True,\n",
       " False,\n",
       " False,\n",
       " False,\n",
       " False,\n",
       " False,\n",
       " False,\n",
       " True,\n",
       " False,\n",
       " False,\n",
       " False,\n",
       " True,\n",
       " False,\n",
       " True,\n",
       " False,\n",
       " True,\n",
       " True,\n",
       " False,\n",
       " False,\n",
       " True,\n",
       " False,\n",
       " True,\n",
       " True,\n",
       " True,\n",
       " False,\n",
       " True,\n",
       " True,\n",
       " False,\n",
       " False,\n",
       " True,\n",
       " False,\n",
       " False,\n",
       " False,\n",
       " False,\n",
       " False,\n",
       " False,\n",
       " False,\n",
       " False,\n",
       " True,\n",
       " True,\n",
       " False,\n",
       " False,\n",
       " False,\n",
       " False,\n",
       " False,\n",
       " False,\n",
       " True,\n",
       " False,\n",
       " False,\n",
       " False,\n",
       " False,\n",
       " False,\n",
       " False,\n",
       " False,\n",
       " False,\n",
       " False,\n",
       " False,\n",
       " False,\n",
       " False,\n",
       " False,\n",
       " False,\n",
       " False,\n",
       " True,\n",
       " False,\n",
       " False,\n",
       " False,\n",
       " False,\n",
       " False,\n",
       " False,\n",
       " False,\n",
       " False,\n",
       " False,\n",
       " False,\n",
       " False,\n",
       " False,\n",
       " False,\n",
       " False,\n",
       " False,\n",
       " False,\n",
       " False,\n",
       " True,\n",
       " False,\n",
       " True,\n",
       " False,\n",
       " True,\n",
       " True,\n",
       " False,\n",
       " False,\n",
       " False,\n",
       " False,\n",
       " True,\n",
       " False,\n",
       " True,\n",
       " True,\n",
       " True,\n",
       " False,\n",
       " True,\n",
       " True,\n",
       " False,\n",
       " False,\n",
       " False,\n",
       " False,\n",
       " False,\n",
       " False,\n",
       " True,\n",
       " False,\n",
       " False,\n",
       " False,\n",
       " False,\n",
       " False,\n",
       " False,\n",
       " False,\n",
       " False,\n",
       " False,\n",
       " False,\n",
       " False,\n",
       " False,\n",
       " False,\n",
       " False,\n",
       " False,\n",
       " False,\n",
       " False,\n",
       " False,\n",
       " False,\n",
       " False,\n",
       " True,\n",
       " True,\n",
       " True,\n",
       " True,\n",
       " False,\n",
       " False,\n",
       " False,\n",
       " False,\n",
       " False,\n",
       " True,\n",
       " False,\n",
       " False,\n",
       " False,\n",
       " False,\n",
       " False,\n",
       " False,\n",
       " False,\n",
       " False,\n",
       " False,\n",
       " False,\n",
       " False]"
      ]
     },
     "execution_count": 19,
     "metadata": {},
     "output_type": "execute_result"
    }
   ],
   "source": [
    "constant_list = [not temp for temp in constant_filter.get_support()]\n",
    "constant_list"
   ]
  },
  {
   "cell_type": "code",
   "execution_count": 21,
   "metadata": {},
   "outputs": [
    {
     "data": {
      "text/plain": [
       "Index(['ind_var2_0', 'ind_var2', 'ind_var13_medio_0', 'ind_var13_medio',\n",
       "       'ind_var18_0', 'ind_var18', 'ind_var27_0', 'ind_var28_0', 'ind_var28',\n",
       "       'ind_var27', 'ind_var34_0', 'ind_var34', 'ind_var41', 'ind_var46_0',\n",
       "       'ind_var46', 'num_var13_medio_0', 'num_var13_medio', 'num_var18_0',\n",
       "       'num_var18', 'num_op_var40_hace3', 'num_var27_0', 'num_var28_0',\n",
       "       'num_var28', 'num_var27', 'num_var34_0', 'num_var34', 'num_var41',\n",
       "       'num_var46_0', 'num_var46', 'saldo_var13_medio', 'saldo_var18',\n",
       "       'saldo_var28', 'saldo_var27', 'saldo_var34', 'saldo_var41',\n",
       "       'saldo_var46', 'delta_imp_amort_var18_1y3', 'delta_imp_amort_var34_1y3',\n",
       "       'delta_imp_reemb_var33_1y3', 'delta_imp_trasp_var17_out_1y3',\n",
       "       'delta_imp_trasp_var33_out_1y3', 'delta_num_reemb_var33_1y3',\n",
       "       'delta_num_trasp_var17_out_1y3', 'delta_num_trasp_var33_out_1y3',\n",
       "       'imp_amort_var18_hace3', 'imp_amort_var18_ult1',\n",
       "       'imp_amort_var34_hace3', 'imp_amort_var34_ult1', 'imp_var7_emit_ult1',\n",
       "       'imp_reemb_var13_hace3', 'imp_reemb_var17_hace3',\n",
       "       'imp_reemb_var33_hace3', 'imp_reemb_var33_ult1',\n",
       "       'imp_trasp_var17_in_hace3', 'imp_trasp_var17_out_hace3',\n",
       "       'imp_trasp_var17_out_ult1', 'imp_trasp_var33_in_hace3',\n",
       "       'imp_trasp_var33_out_hace3', 'imp_trasp_var33_out_ult1',\n",
       "       'ind_var7_emit_ult1', 'num_var2_0_ult1', 'num_var2_ult1',\n",
       "       'num_var7_emit_ult1', 'num_meses_var13_medio_ult3',\n",
       "       'num_reemb_var13_hace3', 'num_reemb_var17_hace3',\n",
       "       'num_reemb_var33_hace3', 'num_reemb_var33_ult1',\n",
       "       'num_trasp_var17_in_hace3', 'num_trasp_var17_out_hace3',\n",
       "       'num_trasp_var17_out_ult1', 'num_trasp_var33_in_hace3',\n",
       "       'num_trasp_var33_out_hace3', 'num_trasp_var33_out_ult1',\n",
       "       'saldo_var2_ult1', 'saldo_medio_var13_medio_hace2',\n",
       "       'saldo_medio_var13_medio_hace3', 'saldo_medio_var13_medio_ult1',\n",
       "       'saldo_medio_var13_medio_ult3', 'saldo_medio_var29_hace3'],\n",
       "      dtype='object')"
      ]
     },
     "execution_count": 21,
     "metadata": {},
     "output_type": "execute_result"
    }
   ],
   "source": [
    "X.columns[constant_list]"
   ]
  },
  {
   "cell_type": "code",
   "execution_count": 25,
   "metadata": {},
   "outputs": [],
   "source": [
    "X_train_filter = constant_filter.transform(X_train)\n",
    "X_test_filter = constant_filter.transform(X_test)"
   ]
  },
  {
   "cell_type": "code",
   "execution_count": 26,
   "metadata": {},
   "outputs": [
    {
     "data": {
      "text/plain": [
       "((16000, 290), (4000, 290), (16000, 370))"
      ]
     },
     "execution_count": 26,
     "metadata": {},
     "output_type": "execute_result"
    }
   ],
   "source": [
    "X_train_filter.shape, X_test_filter.shape, X_train.shape"
   ]
  },
  {
   "cell_type": "markdown",
   "metadata": {},
   "source": [
    "### Quasi constant feature removal"
   ]
  },
  {
   "cell_type": "code",
   "execution_count": 27,
   "metadata": {},
   "outputs": [],
   "source": [
    "quasi_constant_filter = VarianceThreshold(threshold=0.01)"
   ]
  },
  {
   "cell_type": "code",
   "execution_count": 28,
   "metadata": {},
   "outputs": [
    {
     "data": {
      "text/plain": [
       "VarianceThreshold(threshold=0.01)"
      ]
     },
     "execution_count": 28,
     "metadata": {},
     "output_type": "execute_result"
    }
   ],
   "source": [
    "quasi_constant_filter.fit(X_train_filter)"
   ]
  },
  {
   "cell_type": "code",
   "execution_count": 30,
   "metadata": {},
   "outputs": [
    {
     "data": {
      "text/plain": [
       "246"
      ]
     },
     "execution_count": 30,
     "metadata": {},
     "output_type": "execute_result"
    }
   ],
   "source": [
    "quasi_constant_filter.get_support().sum()"
   ]
  },
  {
   "cell_type": "code",
   "execution_count": 33,
   "metadata": {},
   "outputs": [
    {
     "data": {
      "text/plain": [
       "45"
      ]
     },
     "execution_count": 33,
     "metadata": {},
     "output_type": "execute_result"
    }
   ],
   "source": [
    "291-246"
   ]
  },
  {
   "cell_type": "code",
   "execution_count": 34,
   "metadata": {},
   "outputs": [],
   "source": [
    "X_train_quasi_filter = quasi_constant_filter.transform(X_train_filter)\n",
    "X_test_quasi_filter = quasi_constant_filter.transform(X_test_filter)"
   ]
  },
  {
   "cell_type": "code",
   "execution_count": 36,
   "metadata": {},
   "outputs": [
    {
     "data": {
      "text/plain": [
       "((16000, 246), (4000, 246))"
      ]
     },
     "execution_count": 36,
     "metadata": {},
     "output_type": "execute_result"
    }
   ],
   "source": [
    "X_train_quasi_filter.shape, X_test_quasi_filter.shape"
   ]
  },
  {
   "cell_type": "markdown",
   "metadata": {},
   "source": [
    "### Remove Duplicate Features"
   ]
  },
  {
   "cell_type": "code",
   "execution_count": 47,
   "metadata": {},
   "outputs": [],
   "source": [
    "X_train_T = X_train_quasi_filter.T\n",
    "X_test_T = X_test_quasi_filter.T"
   ]
  },
  {
   "cell_type": "code",
   "execution_count": 48,
   "metadata": {},
   "outputs": [],
   "source": [
    "X_train_T = pd.DataFrame(X_train_T)\n",
    "X_test_T = pd.DataFrame(X_test_T)"
   ]
  },
  {
   "cell_type": "code",
   "execution_count": 50,
   "metadata": {},
   "outputs": [
    {
     "data": {
      "text/plain": [
       "19"
      ]
     },
     "execution_count": 50,
     "metadata": {},
     "output_type": "execute_result"
    }
   ],
   "source": [
    "X_train_T.duplicated().sum()"
   ]
  },
  {
   "cell_type": "code",
   "execution_count": 52,
   "metadata": {},
   "outputs": [
    {
     "data": {
      "text/plain": [
       "0      False\n",
       "1      False\n",
       "2      False\n",
       "3      False\n",
       "4      False\n",
       "       ...  \n",
       "241    False\n",
       "242    False\n",
       "243    False\n",
       "244    False\n",
       "245    False\n",
       "Length: 246, dtype: bool"
      ]
     },
     "execution_count": 52,
     "metadata": {},
     "output_type": "execute_result"
    }
   ],
   "source": [
    "duplicated_features = X_train_T.duplicated()\n",
    "duplicated_features"
   ]
  },
  {
   "cell_type": "code",
   "execution_count": 53,
   "metadata": {},
   "outputs": [],
   "source": [
    "features_to_keep = [not index for index in duplicated_features]"
   ]
  },
  {
   "cell_type": "code",
   "execution_count": 54,
   "metadata": {},
   "outputs": [],
   "source": [
    "X_train_unique = X_train_T[features_to_keep].T\n",
    "X_test_unique = X_test_T[features_to_keep].T"
   ]
  },
  {
   "cell_type": "code",
   "execution_count": 55,
   "metadata": {},
   "outputs": [
    {
     "data": {
      "text/plain": [
       "((16000, 227), (16000, 370))"
      ]
     },
     "execution_count": 55,
     "metadata": {},
     "output_type": "execute_result"
    }
   ],
   "source": [
    "X_train_unique.shape, X_train.shape"
   ]
  },
  {
   "cell_type": "code",
   "execution_count": 57,
   "metadata": {},
   "outputs": [
    {
     "data": {
      "text/plain": [
       "143"
      ]
     },
     "execution_count": 57,
     "metadata": {},
     "output_type": "execute_result"
    }
   ],
   "source": [
    "370-227"
   ]
  },
  {
   "cell_type": "markdown",
   "metadata": {},
   "source": [
    "## Build ML model and compare the performance of the selected feature"
   ]
  },
  {
   "cell_type": "code",
   "execution_count": 58,
   "metadata": {},
   "outputs": [],
   "source": [
    "def run_randomForest(X_train, X_test, y_train, y_test):\n",
    "    clf = RandomForestClassifier(n_estimators=100, random_state=0, n_jobs=-1)\n",
    "    clf.fit(X_train, y_train)\n",
    "    y_pred = clf.predict(X_test)\n",
    "    print('Accuracy on test set: ')\n",
    "    print(accuracy_score(y_test, y_pred))"
   ]
  },
  {
   "cell_type": "code",
   "execution_count": 59,
   "metadata": {},
   "outputs": [
    {
     "name": "stdout",
     "output_type": "stream",
     "text": [
      "Accuracy on test set: \n",
      "0.958\n",
      "CPU times: user 6.38 s, sys: 136 ms, total: 6.51 s\n",
      "Wall time: 1.21 s\n"
     ]
    }
   ],
   "source": [
    "%%time\n",
    "run_randomForest(X_train_unique, X_test_unique, y_train, y_test)"
   ]
  },
  {
   "cell_type": "code",
   "execution_count": 61,
   "metadata": {},
   "outputs": [
    {
     "name": "stdout",
     "output_type": "stream",
     "text": [
      "Accuracy on test set: \n",
      "0.958\n",
      "CPU times: user 7.7 s, sys: 172 ms, total: 7.87 s\n",
      "Wall time: 1.37 s\n"
     ]
    }
   ],
   "source": [
    "%%time\n",
    "run_randomForest(X_train, X_test, y_train, y_test)"
   ]
  },
  {
   "cell_type": "code",
   "execution_count": 62,
   "metadata": {},
   "outputs": [
    {
     "data": {
      "text/plain": [
       "16.556291390728475"
      ]
     },
     "execution_count": 62,
     "metadata": {},
     "output_type": "execute_result"
    }
   ],
   "source": [
    "(1.51-1.26)*100/1.51"
   ]
  },
  {
   "cell_type": "markdown",
   "metadata": {},
   "source": [
    "## Feature Selection with Filtering Method- Correlated Feature Removal"
   ]
  },
  {
   "cell_type": "code",
   "execution_count": 63,
   "metadata": {},
   "outputs": [],
   "source": [
    "corrmat = X_train_unique.corr()"
   ]
  },
  {
   "cell_type": "code",
   "execution_count": 64,
   "metadata": {},
   "outputs": [
    {
     "data": {
      "text/plain": [
       "<matplotlib.axes._subplots.AxesSubplot at 0x1a3df72b90>"
      ]
     },
     "execution_count": 64,
     "metadata": {},
     "output_type": "execute_result"
    },
    {
     "data": {
      "image/png": "[encoded data removed]",
      "text/plain": [
       "<Figure size 864x576 with 2 Axes>"
      ]
     },
     "metadata": {
      "needs_background": "light"
     },
     "output_type": "display_data"
    }
   ],
   "source": [
    "plt.figure(figsize=(12, 8))\n",
    "sns.heatmap(corrmat)"
   ]
  },
  {
   "cell_type": "code",
   "execution_count": 66,
   "metadata": {},
   "outputs": [],
   "source": [
    "def get_correlation(data, threshold):\n",
    "    corr_col = set()\n",
    "    corrmat = data.corr()\n",
    "    for i in range(len(corrmat.columns)):\n",
    "        for j in range(i):\n",
    "            if abs(corrmat.iloc[i, j])> threshold:\n",
    "                colname = corrmat.columns[i]\n",
    "                corr_col.add(colname)\n",
    "    return corr_col"
   ]
  },
  {
   "cell_type": "code",
   "execution_count": 67,
   "metadata": {},
   "outputs": [
    {
     "data": {
      "text/plain": [
       "{5,\n",
       " 7,\n",
       " 9,\n",
       " 11,\n",
       " 12,\n",
       " 14,\n",
       " 15,\n",
       " 16,\n",
       " 17,\n",
       " 18,\n",
       " 23,\n",
       " 24,\n",
       " 28,\n",
       " 29,\n",
       " 30,\n",
       " 32,\n",
       " 33,\n",
       " 35,\n",
       " 36,\n",
       " 38,\n",
       " 42,\n",
       " 46,\n",
       " 47,\n",
       " 50,\n",
       " 51,\n",
       " 52,\n",
       " 53,\n",
       " 54,\n",
       " 55,\n",
       " 56,\n",
       " 57,\n",
       " 58,\n",
       " 60,\n",
       " 61,\n",
       " 62,\n",
       " 65,\n",
       " 67,\n",
       " 68,\n",
       " 69,\n",
       " 70,\n",
       " 72,\n",
       " 76,\n",
       " 80,\n",
       " 81,\n",
       " 83,\n",
       " 84,\n",
       " 86,\n",
       " 88,\n",
       " 92,\n",
       " 94,\n",
       " 96,\n",
       " 99,\n",
       " 101,\n",
       " 102,\n",
       " 104,\n",
       " 105,\n",
       " 112,\n",
       " 116,\n",
       " 118,\n",
       " 122,\n",
       " 126,\n",
       " 137,\n",
       " 139,\n",
       " 144,\n",
       " 148,\n",
       " 155,\n",
       " 158,\n",
       " 159,\n",
       " 162,\n",
       " 163,\n",
       " 164,\n",
       " 165,\n",
       " 170,\n",
       " 172,\n",
       " 181,\n",
       " 183,\n",
       " 184,\n",
       " 185,\n",
       " 186,\n",
       " 189,\n",
       " 190,\n",
       " 191,\n",
       " 192,\n",
       " 193,\n",
       " 194,\n",
       " 195,\n",
       " 196,\n",
       " 198,\n",
       " 199,\n",
       " 200,\n",
       " 205,\n",
       " 206,\n",
       " 208,\n",
       " 209,\n",
       " 213,\n",
       " 216,\n",
       " 217,\n",
       " 218,\n",
       " 220,\n",
       " 221,\n",
       " 222,\n",
       " 224,\n",
       " 225,\n",
       " 228,\n",
       " 229,\n",
       " 232,\n",
       " 233,\n",
       " 236,\n",
       " 237,\n",
       " 238,\n",
       " 239,\n",
       " 240,\n",
       " 241,\n",
       " 243,\n",
       " 244}"
      ]
     },
     "execution_count": 67,
     "metadata": {},
     "output_type": "execute_result"
    }
   ],
   "source": [
    "corr_features = get_correlation(X_train_unique, 0.85)\n",
    "corr_features"
   ]
  },
  {
   "cell_type": "code",
   "execution_count": 68,
   "metadata": {},
   "outputs": [
    {
     "data": {
      "text/plain": [
       "115"
      ]
     },
     "execution_count": 68,
     "metadata": {},
     "output_type": "execute_result"
    }
   ],
   "source": [
    "len(corr_features)"
   ]
  },
  {
   "cell_type": "code",
   "execution_count": 69,
   "metadata": {},
   "outputs": [],
   "source": [
    "X_train_uncorr = X_train_unique.drop(labels=corr_features, axis = 1)\n",
    "X_test_uncorr = X_test_unique.drop(labels = corr_features, axis = 1)"
   ]
  },
  {
   "cell_type": "code",
   "execution_count": 70,
   "metadata": {},
   "outputs": [
    {
     "data": {
      "text/plain": [
       "((16000, 112), (4000, 112))"
      ]
     },
     "execution_count": 70,
     "metadata": {},
     "output_type": "execute_result"
    }
   ],
   "source": [
    "X_train_uncorr.shape, X_test_uncorr.shape"
   ]
  },
  {
   "cell_type": "code",
   "execution_count": 71,
   "metadata": {},
   "outputs": [
    {
     "name": "stdout",
     "output_type": "stream",
     "text": [
      "Accuracy on test set: \n",
      "0.95825\n",
      "CPU times: user 3.92 s, sys: 124 ms, total: 4.05 s\n",
      "Wall time: 883 ms\n"
     ]
    }
   ],
   "source": [
    "%%time\n",
    "run_randomForest(X_train_uncorr, X_test_uncorr, y_train, y_test)"
   ]
  },
  {
   "cell_type": "code",
   "execution_count": 72,
   "metadata": {},
   "outputs": [
    {
     "name": "stdout",
     "output_type": "stream",
     "text": [
      "Accuracy on test set: \n",
      "0.958\n",
      "CPU times: user 7.64 s, sys: 195 ms, total: 7.84 s\n",
      "Wall time: 1.46 s\n"
     ]
    }
   ],
   "source": [
    "%%time\n",
    "run_randomForest(X_train, X_test, y_train, y_test)"
   ]
  },
  {
   "cell_type": "code",
   "execution_count": 73,
   "metadata": {},
   "outputs": [
    {
     "data": {
      "text/plain": [
       "40.3921568627451"
      ]
     },
     "execution_count": 73,
     "metadata": {},
     "output_type": "execute_result"
    }
   ],
   "source": [
    "(1.53-0.912)*100/1.53"
   ]
  },
  {
   "cell_type": "markdown",
   "metadata": {},
   "source": [
    "## Feature Grouping and Feature Importance"
   ]
  },
  {
   "cell_type": "code",
   "execution_count": 74,
   "metadata": {},
   "outputs": [
    {
     "data": {
      "text/html": [
       "<div>\n",
       "<style scoped>\n",
       "    .dataframe tbody tr th:only-of-type {\n",
       "        vertical-align: middle;\n",
       "    }\n",
       "\n",
       "    .dataframe tbody tr th {\n",
       "        vertical-align: top;\n",
       "    }\n",
       "\n",
       "    .dataframe thead th {\n",
       "        text-align: right;\n",
       "    }\n",
       "</style>\n",
       "<table border=\"1\" class=\"dataframe\">\n",
       "  <thead>\n",
       "    <tr style=\"text-align: right;\">\n",
       "      <th></th>\n",
       "      <th>0</th>\n",
       "      <th>1</th>\n",
       "      <th>2</th>\n",
       "      <th>3</th>\n",
       "      <th>4</th>\n",
       "      <th>5</th>\n",
       "      <th>6</th>\n",
       "      <th>7</th>\n",
       "      <th>8</th>\n",
       "      <th>9</th>\n",
       "      <th>...</th>\n",
       "      <th>236</th>\n",
       "      <th>237</th>\n",
       "      <th>238</th>\n",
       "      <th>239</th>\n",
       "      <th>240</th>\n",
       "      <th>241</th>\n",
       "      <th>242</th>\n",
       "      <th>243</th>\n",
       "      <th>244</th>\n",
       "      <th>245</th>\n",
       "    </tr>\n",
       "  </thead>\n",
       "  <tbody>\n",
       "    <tr>\n",
       "      <td>0</td>\n",
       "      <td>1.000000</td>\n",
       "      <td>-0.025945</td>\n",
       "      <td>-0.001696</td>\n",
       "      <td>0.000148</td>\n",
       "      <td>0.005198</td>\n",
       "      <td>0.001921</td>\n",
       "      <td>-0.015835</td>\n",
       "      <td>-0.018529</td>\n",
       "      <td>0.002025</td>\n",
       "      <td>0.000703</td>\n",
       "      <td>...</td>\n",
       "      <td>-0.010488</td>\n",
       "      <td>-0.005209</td>\n",
       "      <td>-0.014315</td>\n",
       "      <td>0.003587</td>\n",
       "      <td>0.002506</td>\n",
       "      <td>0.016728</td>\n",
       "      <td>-0.002893</td>\n",
       "      <td>0.018206</td>\n",
       "      <td>0.019168</td>\n",
       "      <td>0.000158</td>\n",
       "    </tr>\n",
       "    <tr>\n",
       "      <td>1</td>\n",
       "      <td>-0.025945</td>\n",
       "      <td>1.000000</td>\n",
       "      <td>-0.006609</td>\n",
       "      <td>0.001755</td>\n",
       "      <td>0.001906</td>\n",
       "      <td>0.003878</td>\n",
       "      <td>0.001921</td>\n",
       "      <td>0.002116</td>\n",
       "      <td>0.000666</td>\n",
       "      <td>0.000781</td>\n",
       "      <td>...</td>\n",
       "      <td>0.000500</td>\n",
       "      <td>0.000753</td>\n",
       "      <td>0.000571</td>\n",
       "      <td>0.000653</td>\n",
       "      <td>0.000679</td>\n",
       "      <td>0.000649</td>\n",
       "      <td>0.000716</td>\n",
       "      <td>0.000743</td>\n",
       "      <td>0.000877</td>\n",
       "      <td>0.000531</td>\n",
       "    </tr>\n",
       "    <tr>\n",
       "      <td>2</td>\n",
       "      <td>-0.001696</td>\n",
       "      <td>-0.006609</td>\n",
       "      <td>1.000000</td>\n",
       "      <td>0.041469</td>\n",
       "      <td>0.108350</td>\n",
       "      <td>0.110704</td>\n",
       "      <td>0.056414</td>\n",
       "      <td>0.064813</td>\n",
       "      <td>0.004414</td>\n",
       "      <td>0.006252</td>\n",
       "      <td>...</td>\n",
       "      <td>0.016582</td>\n",
       "      <td>0.024222</td>\n",
       "      <td>0.016699</td>\n",
       "      <td>0.021503</td>\n",
       "      <td>0.022002</td>\n",
       "      <td>0.028027</td>\n",
       "      <td>0.017326</td>\n",
       "      <td>0.034645</td>\n",
       "      <td>0.038570</td>\n",
       "      <td>-0.001666</td>\n",
       "    </tr>\n",
       "    <tr>\n",
       "      <td>3</td>\n",
       "      <td>0.000148</td>\n",
       "      <td>0.001755</td>\n",
       "      <td>0.041469</td>\n",
       "      <td>1.000000</td>\n",
       "      <td>0.069134</td>\n",
       "      <td>0.051784</td>\n",
       "      <td>0.025744</td>\n",
       "      <td>0.021545</td>\n",
       "      <td>0.002095</td>\n",
       "      <td>0.007263</td>\n",
       "      <td>...</td>\n",
       "      <td>0.045405</td>\n",
       "      <td>-0.001165</td>\n",
       "      <td>-0.000873</td>\n",
       "      <td>-0.000965</td>\n",
       "      <td>-0.000979</td>\n",
       "      <td>-0.000107</td>\n",
       "      <td>-0.001072</td>\n",
       "      <td>-0.000013</td>\n",
       "      <td>0.000076</td>\n",
       "      <td>-0.001661</td>\n",
       "    </tr>\n",
       "    <tr>\n",
       "      <td>4</td>\n",
       "      <td>0.005198</td>\n",
       "      <td>0.001906</td>\n",
       "      <td>0.108350</td>\n",
       "      <td>0.069134</td>\n",
       "      <td>1.000000</td>\n",
       "      <td>0.874698</td>\n",
       "      <td>0.406067</td>\n",
       "      <td>0.368441</td>\n",
       "      <td>0.020154</td>\n",
       "      <td>0.039995</td>\n",
       "      <td>...</td>\n",
       "      <td>0.006670</td>\n",
       "      <td>0.022929</td>\n",
       "      <td>0.030191</td>\n",
       "      <td>0.023422</td>\n",
       "      <td>0.025710</td>\n",
       "      <td>-0.001131</td>\n",
       "      <td>0.001168</td>\n",
       "      <td>-0.001849</td>\n",
       "      <td>-0.002081</td>\n",
       "      <td>-0.000151</td>\n",
       "    </tr>\n",
       "    <tr>\n",
       "      <td>...</td>\n",
       "      <td>...</td>\n",
       "      <td>...</td>\n",
       "      <td>...</td>\n",
       "      <td>...</td>\n",
       "      <td>...</td>\n",
       "      <td>...</td>\n",
       "      <td>...</td>\n",
       "      <td>...</td>\n",
       "      <td>...</td>\n",
       "      <td>...</td>\n",
       "      <td>...</td>\n",
       "      <td>...</td>\n",
       "      <td>...</td>\n",
       "      <td>...</td>\n",
       "      <td>...</td>\n",
       "      <td>...</td>\n",
       "      <td>...</td>\n",
       "      <td>...</td>\n",
       "      <td>...</td>\n",
       "      <td>...</td>\n",
       "      <td>...</td>\n",
       "    </tr>\n",
       "    <tr>\n",
       "      <td>241</td>\n",
       "      <td>0.016728</td>\n",
       "      <td>0.000649</td>\n",
       "      <td>0.028027</td>\n",
       "      <td>-0.000107</td>\n",
       "      <td>-0.001131</td>\n",
       "      <td>-0.000337</td>\n",
       "      <td>-0.000612</td>\n",
       "      <td>-0.000667</td>\n",
       "      <td>-0.000214</td>\n",
       "      <td>-0.000251</td>\n",
       "      <td>...</td>\n",
       "      <td>0.008152</td>\n",
       "      <td>0.006486</td>\n",
       "      <td>-0.000180</td>\n",
       "      <td>0.011036</td>\n",
       "      <td>0.010261</td>\n",
       "      <td>1.000000</td>\n",
       "      <td>0.333654</td>\n",
       "      <td>0.971467</td>\n",
       "      <td>0.943876</td>\n",
       "      <td>0.000348</td>\n",
       "    </tr>\n",
       "    <tr>\n",
       "      <td>242</td>\n",
       "      <td>-0.002893</td>\n",
       "      <td>0.000716</td>\n",
       "      <td>0.017326</td>\n",
       "      <td>-0.001072</td>\n",
       "      <td>0.001168</td>\n",
       "      <td>0.008197</td>\n",
       "      <td>-0.000650</td>\n",
       "      <td>-0.000709</td>\n",
       "      <td>-0.000228</td>\n",
       "      <td>-0.000266</td>\n",
       "      <td>...</td>\n",
       "      <td>-0.000171</td>\n",
       "      <td>-0.000256</td>\n",
       "      <td>-0.000192</td>\n",
       "      <td>-0.000223</td>\n",
       "      <td>-0.000231</td>\n",
       "      <td>0.333654</td>\n",
       "      <td>1.000000</td>\n",
       "      <td>0.281606</td>\n",
       "      <td>0.291520</td>\n",
       "      <td>0.011740</td>\n",
       "    </tr>\n",
       "    <tr>\n",
       "      <td>243</td>\n",
       "      <td>0.018206</td>\n",
       "      <td>0.000743</td>\n",
       "      <td>0.034645</td>\n",
       "      <td>-0.000013</td>\n",
       "      <td>-0.001849</td>\n",
       "      <td>-0.001458</td>\n",
       "      <td>-0.000702</td>\n",
       "      <td>-0.000766</td>\n",
       "      <td>-0.000246</td>\n",
       "      <td>-0.000288</td>\n",
       "      <td>...</td>\n",
       "      <td>0.029626</td>\n",
       "      <td>0.006266</td>\n",
       "      <td>-0.000207</td>\n",
       "      <td>0.010697</td>\n",
       "      <td>0.009942</td>\n",
       "      <td>0.971467</td>\n",
       "      <td>0.281606</td>\n",
       "      <td>1.000000</td>\n",
       "      <td>0.989251</td>\n",
       "      <td>-0.000110</td>\n",
       "    </tr>\n",
       "    <tr>\n",
       "      <td>244</td>\n",
       "      <td>0.019168</td>\n",
       "      <td>0.000877</td>\n",
       "      <td>0.038570</td>\n",
       "      <td>0.000076</td>\n",
       "      <td>-0.002081</td>\n",
       "      <td>-0.001585</td>\n",
       "      <td>-0.000828</td>\n",
       "      <td>-0.000904</td>\n",
       "      <td>-0.000290</td>\n",
       "      <td>-0.000339</td>\n",
       "      <td>...</td>\n",
       "      <td>0.029450</td>\n",
       "      <td>0.008733</td>\n",
       "      <td>-0.000244</td>\n",
       "      <td>0.014862</td>\n",
       "      <td>0.013818</td>\n",
       "      <td>0.943876</td>\n",
       "      <td>0.291520</td>\n",
       "      <td>0.989251</td>\n",
       "      <td>1.000000</td>\n",
       "      <td>0.000083</td>\n",
       "    </tr>\n",
       "    <tr>\n",
       "      <td>245</td>\n",
       "      <td>0.000158</td>\n",
       "      <td>0.000531</td>\n",
       "      <td>-0.001666</td>\n",
       "      <td>-0.001661</td>\n",
       "      <td>-0.000151</td>\n",
       "      <td>0.000177</td>\n",
       "      <td>0.005986</td>\n",
       "      <td>0.004562</td>\n",
       "      <td>-0.000366</td>\n",
       "      <td>-0.000300</td>\n",
       "      <td>...</td>\n",
       "      <td>-0.001597</td>\n",
       "      <td>0.002134</td>\n",
       "      <td>0.001132</td>\n",
       "      <td>0.000589</td>\n",
       "      <td>0.000621</td>\n",
       "      <td>0.000348</td>\n",
       "      <td>0.011740</td>\n",
       "      <td>-0.000110</td>\n",
       "      <td>0.000083</td>\n",
       "      <td>1.000000</td>\n",
       "    </tr>\n",
       "  </tbody>\n",
       "</table>\n",
       "<p>227 rows × 227 columns</p>\n",
       "</div>"
      ],
      "text/plain": [
       "          0         1         2         3         4         5         6    \\\n",
       "0    1.000000 -0.025945 -0.001696  0.000148  0.005198  0.001921 -0.015835   \n",
       "1   -0.025945  1.000000 -0.006609  0.001755  0.001906  0.003878  0.001921   \n",
       "2   -0.001696 -0.006609  1.000000  0.041469  0.108350  0.110704  0.056414   \n",
       "3    0.000148  0.001755  0.041469  1.000000  0.069134  0.051784  0.025744   \n",
       "4    0.005198  0.001906  0.108350  0.069134  1.000000  0.874698  0.406067   \n",
       "..        ...       ...       ...       ...       ...       ...       ...   \n",
       "241  0.016728  0.000649  0.028027 -0.000107 -0.001131 -0.000337 -0.000612   \n",
       "242 -0.002893  0.000716  0.017326 -0.001072  0.001168  0.008197 -0.000650   \n",
       "243  0.018206  0.000743  0.034645 -0.000013 -0.001849 -0.001458 -0.000702   \n",
       "244  0.019168  0.000877  0.038570  0.000076 -0.002081 -0.001585 -0.000828   \n",
       "245  0.000158  0.000531 -0.001666 -0.001661 -0.000151  0.000177  0.005986   \n",
       "\n",
       "          7         8         9    ...       236       237       238  \\\n",
       "0   -0.018529  0.002025  0.000703  ... -0.010488 -0.005209 -0.014315   \n",
       "1    0.002116  0.000666  0.000781  ...  0.000500  0.000753  0.000571   \n",
       "2    0.064813  0.004414  0.006252  ...  0.016582  0.024222  0.016699   \n",
       "3    0.021545  0.002095  0.007263  ...  0.045405 -0.001165 -0.000873   \n",
       "4    0.368441  0.020154  0.039995  ...  0.006670  0.022929  0.030191   \n",
       "..        ...       ...       ...  ...       ...       ...       ...   \n",
       "241 -0.000667 -0.000214 -0.000251  ...  0.008152  0.006486 -0.000180   \n",
       "242 -0.000709 -0.000228 -0.000266  ... -0.000171 -0.000256 -0.000192   \n",
       "243 -0.000766 -0.000246 -0.000288  ...  0.029626  0.006266 -0.000207   \n",
       "244 -0.000904 -0.000290 -0.000339  ...  0.029450  0.008733 -0.000244   \n",
       "245  0.004562 -0.000366 -0.000300  ... -0.001597  0.002134  0.001132   \n",
       "\n",
       "          239       240       241       242       243       244       245  \n",
       "0    0.003587  0.002506  0.016728 -0.002893  0.018206  0.019168  0.000158  \n",
       "1    0.000653  0.000679  0.000649  0.000716  0.000743  0.000877  0.000531  \n",
       "2    0.021503  0.022002  0.028027  0.017326  0.034645  0.038570 -0.001666  \n",
       "3   -0.000965 -0.000979 -0.000107 -0.001072 -0.000013  0.000076 -0.001661  \n",
       "4    0.023422  0.025710 -0.001131  0.001168 -0.001849 -0.002081 -0.000151  \n",
       "..        ...       ...       ...       ...       ...       ...       ...  \n",
       "241  0.011036  0.010261  1.000000  0.333654  0.971467  0.943876  0.000348  \n",
       "242 -0.000223 -0.000231  0.333654  1.000000  0.281606  0.291520  0.011740  \n",
       "243  0.010697  0.009942  0.971467  0.281606  1.000000  0.989251 -0.000110  \n",
       "244  0.014862  0.013818  0.943876  0.291520  0.989251  1.000000  0.000083  \n",
       "245  0.000589  0.000621  0.000348  0.011740 -0.000110  0.000083  1.000000  \n",
       "\n",
       "[227 rows x 227 columns]"
      ]
     },
     "execution_count": 74,
     "metadata": {},
     "output_type": "execute_result"
    }
   ],
   "source": [
    "corrmat"
   ]
  },
  {
   "cell_type": "code",
   "execution_count": null,
   "metadata": {},
   "outputs": [],
   "source": [
    "corrdata = corrmat.abs().stack()\n",
    "corrdata"
   ]
  }
 ],
 "metadata": {
  "kernelspec": {
   "display_name": "Python 3",
   "language": "python",
   "name": "python3"
  },
  "language_info": {
   "codemirror_mode": {
    "name": "ipython",
    "version": 3
   },
   "file_extension": ".py",
   "mimetype": "text/x-python",
   "name": "python",
   "nbconvert_exporter": "python",
   "pygments_lexer": "ipython3",
   "version": "3.7.4"
  }
 },
 "nbformat": 4,
 "nbformat_minor": 2
}
