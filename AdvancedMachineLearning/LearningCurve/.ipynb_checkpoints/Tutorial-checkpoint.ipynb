{
 "cells": [
  {
   "cell_type": "code",
   "execution_count": 17,
   "metadata": {},
   "outputs": [],
   "source": [
    "import numpy as np\n",
    "import matplotlib.pyplot as plt\n",
    "from sklearn.ensemble import RandomForestClassifier\n",
    "from sklearn.datasets import load_breast_cancer\n",
    "from sklearn.model_selection import learning_curve"
   ]
  },
  {
   "cell_type": "code",
   "execution_count": 3,
   "metadata": {},
   "outputs": [],
   "source": [
    "cancer = load_breast_cancer()"
   ]
  },
  {
   "cell_type": "code",
   "execution_count": 4,
   "metadata": {},
   "outputs": [],
   "source": [
    "X = cancer.data\n",
    "y = cancer.target"
   ]
  },
  {
   "cell_type": "code",
   "execution_count": 6,
   "metadata": {},
   "outputs": [
    {
     "data": {
      "text/plain": [
       "((569, 30), (569,))"
      ]
     },
     "execution_count": 6,
     "metadata": {},
     "output_type": "execute_result"
    }
   ],
   "source": [
    "X.shape, y.shape"
   ]
  },
  {
   "cell_type": "code",
   "execution_count": 18,
   "metadata": {},
   "outputs": [
    {
     "name": "stdout",
     "output_type": "stream",
     "text": [
      "[learning_curve] Training set sizes: [  5  15  25  36  46  56  67  77  87  98 108 118 129 139 149 159 170 180\n",
      " 190 201 211 221 232 242 252 263 273 283 294 304 314 325 335 345 356 366\n",
      " 376 387 397 407 418 428 438 449 459 469 480 490 500 511]\n"
     ]
    },
    {
     "name": "stderr",
     "output_type": "stream",
     "text": [
      "[Parallel(n_jobs=-1)]: Using backend LokyBackend with 8 concurrent workers.\n",
      "[Parallel(n_jobs=-1)]: Done 500 out of 500 | elapsed:    4.4s finished\n"
     ]
    }
   ],
   "source": [
    "train_sizes, train_scores, test_scores = learning_curve(RandomForestClassifier(), X, y, cv = 10, scoring='accuracy', n_jobs=-1, train_sizes=np.linspace(0.01, 1, 50), verbose=1)"
   ]
  },
  {
   "cell_type": "code",
   "execution_count": 19,
   "metadata": {},
   "outputs": [
    {
     "data": {
      "text/plain": [
       "array([1.        , 1.        , 0.984     , 0.99444444, 0.98913043,\n",
       "       0.99464286, 0.99850746, 1.        , 0.99195402, 0.99285714,\n",
       "       0.99537037, 0.99661017, 0.99689922, 0.99640288, 0.99194631,\n",
       "       0.99685535, 0.99647059, 0.99388889, 0.99736842, 0.99651741,\n",
       "       0.9943128 , 0.9959276 , 0.99741379, 0.99752066, 0.9952381 ,\n",
       "       0.99505703, 0.99413919, 0.995053  , 0.99557823, 0.99736842,\n",
       "       0.99649682, 0.99723077, 0.99850746, 0.99826087, 0.99719101,\n",
       "       0.99644809, 0.99654255, 0.99844961, 0.99697733, 0.9970516 ,\n",
       "       0.99808612, 0.99813084, 0.99748858, 0.99732739, 0.99847495,\n",
       "       0.99829424, 0.998125  , 0.99755102, 0.9978    , 0.99863014])"
      ]
     },
     "execution_count": 19,
     "metadata": {},
     "output_type": "execute_result"
    }
   ],
   "source": [
    "train_mean = np.mean(train_scores, axis = 1)\n",
    "train_mean"
   ]
  },
  {
   "cell_type": "code",
   "execution_count": 20,
   "metadata": {},
   "outputs": [
    {
     "data": {
      "text/plain": [
       "array([0.        , 0.        , 0.01959592, 0.01111111, 0.01086957,\n",
       "       0.00818317, 0.00447761, 0.        , 0.01155158, 0.00796964,\n",
       "       0.0062113 , 0.00415168, 0.00514205, 0.00359712, 0.00585087,\n",
       "       0.00314465, 0.00470588, 0.0052411 , 0.00263158, 0.00318563,\n",
       "       0.00413166, 0.00426877, 0.00285916, 0.00274101, 0.00427394,\n",
       "       0.00418251, 0.00407895, 0.00551961, 0.00306122, 0.00197368,\n",
       "       0.00361714, 0.00255588, 0.00200245, 0.00192268, 0.00217583,\n",
       "       0.00125207, 0.00292553, 0.00236826, 0.00314609, 0.00214197,\n",
       "       0.00278993, 0.00228924, 0.00278688, 0.0013363 , 0.00139502,\n",
       "       0.00127932, 0.00173055, 0.00237998, 0.00274955, 0.00152842])"
      ]
     },
     "execution_count": 20,
     "metadata": {},
     "output_type": "execute_result"
    }
   ],
   "source": [
    "train_std = np.std(train_scores, axis = 1)\n",
    "train_std"
   ]
  },
  {
   "cell_type": "code",
   "execution_count": 21,
   "metadata": {},
   "outputs": [
    {
     "data": {
      "text/plain": [
       "array([0.3725726 , 0.3725726 , 0.70849862, 0.73513309, 0.68332901,\n",
       "       0.82228416, 0.84851136, 0.84650851, 0.86078991, 0.89982823,\n",
       "       0.9050309 , 0.92094568, 0.92257584, 0.92614835, 0.91565228,\n",
       "       0.92263957, 0.92639465, 0.91016874, 0.93692205, 0.93507584,\n",
       "       0.9439115 , 0.92429997, 0.9297511 , 0.94726687, 0.93507692,\n",
       "       0.92802696, 0.93322855, 0.93871208, 0.94218628, 0.9455449 ,\n",
       "       0.94563456, 0.9542855 , 0.93492136, 0.95086855, 0.94560431,\n",
       "       0.94732953, 0.95256352, 0.94052588, 0.93516982, 0.96155151,\n",
       "       0.95447131, 0.95447023, 0.94920815, 0.95616412, 0.95083722,\n",
       "       0.96333722, 0.94923732, 0.94926865, 0.95607229, 0.96490688])"
      ]
     },
     "execution_count": 21,
     "metadata": {},
     "output_type": "execute_result"
    }
   ],
   "source": [
    "test_mean = np.mean(test_scores, axis = 1)\n",
    "test_mean"
   ]
  },
  {
   "cell_type": "code",
   "execution_count": 22,
   "metadata": {},
   "outputs": [
    {
     "data": {
      "text/plain": [
       "array([0.00441189, 0.00441189, 0.14690721, 0.12673749, 0.09312936,\n",
       "       0.05799366, 0.0559383 , 0.07731041, 0.05553048, 0.0326547 ,\n",
       "       0.04290855, 0.03586549, 0.05484747, 0.02702739, 0.02309473,\n",
       "       0.04139558, 0.03621553, 0.04849421, 0.03712553, 0.04185221,\n",
       "       0.04108176, 0.05544987, 0.03012427, 0.02078059, 0.03577617,\n",
       "       0.03241971, 0.03089867, 0.03485592, 0.03937526, 0.03001246,\n",
       "       0.035292  , 0.022557  , 0.04037858, 0.03641704, 0.03163561,\n",
       "       0.03011565, 0.0294664 , 0.03555096, 0.03957586, 0.02871154,\n",
       "       0.02699798, 0.03026495, 0.02836402, 0.02925531, 0.02782232,\n",
       "       0.03043998, 0.03225392, 0.02921092, 0.02745007, 0.03018435])"
      ]
     },
     "execution_count": 22,
     "metadata": {},
     "output_type": "execute_result"
    }
   ],
   "source": [
    "test_std = np.std(test_scores, axis = 1)\n",
    "test_std"
   ]
  },
  {
   "cell_type": "code",
   "execution_count": 23,
   "metadata": {},
   "outputs": [
    {
     "data": {
      "text/plain": [
       "<matplotlib.legend.Legend at 0x1a1cf16b50>"
      ]
     },
     "execution_count": 23,
     "metadata": {},
     "output_type": "execute_result"
    },
    {
     "data": {
      "image/png": "[encoded data removed]",
      "text/plain": [
       "<Figure size 432x288 with 1 Axes>"
      ]
     },
     "metadata": {
      "needs_background": "light"
     },
     "output_type": "display_data"
    }
   ],
   "source": [
    "plt.plot(train_sizes, train_mean, label = 'Training Score')\n",
    "plt.plot(train_sizes, test_mean, label = 'Cross-Validation Score')\n",
    "\n",
    "plt.fill_between(train_sizes, train_mean-train_std, train_mean+train_std, color = '#DDDDDD')\n",
    "plt.fill_between(train_sizes, test_mean-test_std, test_mean+test_std, color = '#DDDDDD')\n",
    "\n",
    "\n",
    "\n",
    "plt.title('Learning Curve')\n",
    "plt.xlabel('Training Size')\n",
    "plt.ylabel('Accuracy Score')\n",
    "plt.legend(loc = 'best')"
   ]
  },
  {
   "cell_type": "code",
   "execution_count": null,
   "metadata": {},
   "outputs": [],
   "source": []
  }
 ],
 "metadata": {
  "kernelspec": {
   "display_name": "Python 3",
   "language": "python",
   "name": "python3"
  },
  "language_info": {
   "codemirror_mode": {
    "name": "ipython",
    "version": 3
   },
   "file_extension": ".py",
   "mimetype": "text/x-python",
   "name": "python",
   "nbconvert_exporter": "python",
   "pygments_lexer": "ipython3",
   "version": "3.7.4"
  }
 },
 "nbformat": 4,
 "nbformat_minor": 2
}
